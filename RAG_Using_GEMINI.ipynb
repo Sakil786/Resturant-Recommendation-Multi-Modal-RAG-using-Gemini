{
  "nbformat": 4,
  "nbformat_minor": 0,
  "metadata": {
    "colab": {
      "provenance": [],
      "gpuType": "T4"
    },
    "kernelspec": {
      "name": "python3",
      "display_name": "Python 3"
    },
    "language_info": {
      "name": "python"
    },
    "accelerator": "GPU"
  },
  "cells": [
    {
      "cell_type": "code",
      "execution_count": 1,
      "metadata": {
        "id": "Y-sjixZmTclG"
      },
      "outputs": [],
      "source": [
        "# ! pip install -q --upgrade google-generativeai langchain-google-genai chromadb pypdf langchain"
      ]
    },
    {
      "cell_type": "code",
      "source": [
        "# !pip install langchain"
      ],
      "metadata": {
        "id": "yeX3hKVqY1yk"
      },
      "execution_count": 19,
      "outputs": []
    },
    {
      "cell_type": "code",
      "source": [
        "import urllib\n",
        "import warnings\n",
        "from pathlib import Path as p\n",
        "from pprint import pprint\n",
        "\n",
        "import pandas as pd\n",
        "from langchain import PromptTemplate\n",
        "from langchain.chains.question_answering import load_qa_chain\n",
        "from langchain.document_loaders import PyPDFLoader\n",
        "from langchain.text_splitter import RecursiveCharacterTextSplitter\n",
        "from langchain.vectorstores import Chroma\n",
        "from langchain.chains import RetrievalQA\n",
        "from langchain_google_genai import ChatGoogleGenerativeAI,GoogleGenerativeAIEmbeddings\n",
        "warnings.filterwarnings(\"ignore\")"
      ],
      "metadata": {
        "id": "zmVUnKVMYxce"
      },
      "execution_count": 1,
      "outputs": []
    },
    {
      "cell_type": "code",
      "source": [
        "GOOGLE_API_KEY='<<<<<<KEY>>>>>>>>'"
      ],
      "metadata": {
        "id": "ol1iWRr4d6B7"
      },
      "execution_count": 2,
      "outputs": []
    },
    {
      "cell_type": "code",
      "source": [
        "def load_model():\n",
        "  #Function to load Model\n",
        "  model = ChatGoogleGenerativeAI(model=\"gemini-pro\",google_api_key=GOOGLE_API_KEY,\n",
        "                             temperature=0.4,convert_system_message_to_human=True)\n",
        "  embeddings = GoogleGenerativeAIEmbeddings(model=\"models/embedding-001\",google_api_key=GOOGLE_API_KEY)\n",
        "  return model,embeddings"
      ],
      "metadata": {
        "id": "A1Ky5SnUY92N"
      },
      "execution_count": 3,
      "outputs": []
    },
    {
      "cell_type": "code",
      "source": [
        "def get_data():\n",
        "  #Function to load data\n",
        "  pdf_loader = PyPDFLoader(\"/content/medical_data_book.pdf\")\n",
        "  pages = pdf_loader.load_and_split()\n",
        "  text_splitter = RecursiveCharacterTextSplitter(chunk_size=10000, chunk_overlap=100)\n",
        "  context = \"\\n\\n\".join(str(p.page_content) for p in pages)\n",
        "  texts = text_splitter.split_text(context)\n",
        "  model,embeddings=load_model()\n",
        "  vector_index = Chroma.from_texts(texts, embeddings).as_retriever(search_kwargs={\"k\":5})\n",
        "  qa_chain = RetrievalQA.from_chain_type(\n",
        "    model,\n",
        "    retriever=vector_index,\n",
        "    return_source_documents=True\n",
        "\n",
        ")\n",
        "  return qa_chain"
      ],
      "metadata": {
        "id": "dLuDJ8SkeFoQ"
      },
      "execution_count": 4,
      "outputs": []
    },
    {
      "cell_type": "code",
      "source": [
        "def get_query():\n",
        "  #Function to get query from the user\n",
        "  qa_chain=get_data()\n",
        "  query = \"Describe about Achondroplasia?\"\n",
        "  output = qa_chain({\"query\": query})\n",
        "  print(output[\"result\"])\n"
      ],
      "metadata": {
        "id": "KU6_GypjeFzb"
      },
      "execution_count": 9,
      "outputs": []
    },
    {
      "cell_type": "code",
      "source": [
        "get_query()"
      ],
      "metadata": {
        "colab": {
          "base_uri": "https://localhost:8080/",
          "height": 159
        },
        "id": "SsXtdNNUfSgh",
        "outputId": "a9245c96-b7fe-413b-e738-10c5daac0548"
      },
      "execution_count": 10,
      "outputs": [
        {
          "output_type": "stream",
          "name": "stdout",
          "text": [
            "Achondroplasia is a genetic disorder that affects bone growth. It is the most common cause of dwarfism, a condition characterized by abnormally short stature. People with achondroplasia have short limbs, a large head, and a normal-sized trunk. They may also have other health problems, such as sleep apnea, spinal stenosis, and bowed legs.\n",
            "\n",
            "Achondroplasia is caused by a mutation in the FGFR3 gene. This gene helps control the growth of cartilage, which is a type of connective tissue that is found in bones. The mutation in the FGFR3 gene causes cartilage to form abnormally, which leads to the short stature and other physical features of achondroplasia.\n",
            "\n",
            "Achondroplasia is usually diagnosed at birth. There is no cure for achondroplasia, but there are treatments that can help to manage the condition. These treatments may include surgery to correct bone deformities, medication to promote growth, and physical therapy to help improve mobility.\n",
            "\n",
            "People with achondroplasia can live full and active lives. They may face some challenges, but they can overcome them with the help of family, friends, and medical professionals.\n"
          ]
        }
      ]
    },
    {
      "cell_type": "code",
      "source": [],
      "metadata": {
        "id": "aVVwK2WgXitZ"
      },
      "execution_count": null,
      "outputs": []
    }
  ]
}